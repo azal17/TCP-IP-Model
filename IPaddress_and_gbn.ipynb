{
  "nbformat": 4,
  "nbformat_minor": 0,
  "metadata": {
    "colab": {
      "provenance": [],
      "authorship_tag": "ABX9TyM6V0ohqevh5FVtnpTysowj",
      "include_colab_link": true
    },
    "kernelspec": {
      "name": "python3",
      "display_name": "Python 3"
    },
    "language_info": {
      "name": "python"
    }
  },
  "cells": [
    {
      "cell_type": "markdown",
      "metadata": {
        "id": "view-in-github",
        "colab_type": "text"
      },
      "source": [
        "<a href=\"https://colab.research.google.com/github/azal17/computer_networks/blob/main/IPaddress_and_gbn.ipynb\" target=\"_parent\"><img src=\"https://colab.research.google.com/assets/colab-badge.svg\" alt=\"Open In Colab\"/></a>"
      ]
    },
    {
      "cell_type": "markdown",
      "source": [
        "**Assigning IPV4 addresses to devices**\n"
      ],
      "metadata": {
        "id": "5CWKpLsmdyzN"
      }
    },
    {
      "cell_type": "code",
      "execution_count": 1,
      "metadata": {
        "colab": {
          "base_uri": "https://localhost:8080/"
        },
        "id": "JlHxrejDbOdj",
        "outputId": "0691b4ea-cd07-4d14-ec4e-d898aa2d2a5a"
      },
      "outputs": [
        {
          "output_type": "stream",
          "name": "stdout",
          "text": [
            "Enter the IP address in CIDR notation (e.g., 192.168.1.0/24): 192.168.1.0/24\n",
            "Enter host requirements: 20 62 120\n",
            "\n",
            "Calculating for host requirement: 120\n",
            "\n",
            "Calculating for host requirement: 62\n",
            "\n",
            "Calculating for host requirement: 20\n",
            "\n",
            "Host requirement: 120\n",
            "nid_1: 192.168.1.0/24\n",
            "nid_2: 192.168.1.128\n",
            "Allocated IPs: 7\n",
            "Block size: 128\n",
            "\n",
            "Host requirement: 62\n",
            "nid_1: 192.168.1.128\n",
            "nid_2: 192.168.1.192\n",
            "Allocated IPs: 6\n",
            "Block size: 64\n",
            "\n",
            "Host requirement: 20\n",
            "nid_1: 192.168.1.192\n",
            "nid_2: 192.168.1.224\n",
            "Allocated IPs: 5\n",
            "Block size: 32\n"
          ]
        }
      ],
      "source": [
        "from math import log2, ceil\n",
        "\n",
        "def calculate_log_values(host):\n",
        "    log_value = log2(host)\n",
        "    ceil_value = ceil(log_value)\n",
        "    return ceil_value\n",
        "\n",
        "def calculate_blocksize(n_bits):\n",
        "    rem = n_bits % 8\n",
        "    binary_str = \"\"\n",
        "\n",
        "    while rem > 0:\n",
        "        binary_str += \"1\"\n",
        "        rem -= 1\n",
        "\n",
        "    i = 8 - len(binary_str)\n",
        "    while i > 0:\n",
        "        binary_str += \"0\"\n",
        "        i -= 1\n",
        "\n",
        "    binary_str = binary_str.ljust(8, '0')\n",
        "\n",
        "    blocksize = 0\n",
        "    for i in range(8):\n",
        "        blocksize += int(binary_str[i]) * (2 ** (7 - i))\n",
        "\n",
        "    return 256 - blocksize\n",
        "\n",
        "def calculate_subnets(hosts, ip_add):\n",
        "    current_ip = ip_add\n",
        "    index = ip_add.find('/')\n",
        "    sub = ip_add[index + 1:]\n",
        "    eff_octet = int(int(sub) / 8)\n",
        "    ip_add = ip_add[:index]\n",
        "    tokens = ip_add.split('.')\n",
        "\n",
        "    # Sort hosts array in descending order\n",
        "    hosts.sort(reverse=True)\n",
        "\n",
        "    results = []\n",
        "    for host in hosts:\n",
        "        print(f\"\\nCalculating for host requirement: {host}\")\n",
        "        x = calculate_log_values(host)\n",
        "        blocksize = calculate_blocksize(32 - x)\n",
        "\n",
        "        nid_1 = current_ip\n",
        "        tokens[eff_octet] = str(int(tokens[eff_octet]) + blocksize)\n",
        "        nid_2 = '.'.join(tokens)\n",
        "\n",
        "        results.append({\n",
        "            \"host\": host,\n",
        "            \"nid_1\": nid_1,\n",
        "            \"nid_2\": nid_2,\n",
        "            \"allocated_ips\": x,\n",
        "            \"blocksize\": blocksize\n",
        "        })\n",
        "\n",
        "        current_ip = nid_2\n",
        "\n",
        "    return results\n",
        "\n",
        "ip_add = input(\"Enter the IP address in CIDR notation (e.g., 192.168.1.0/24): \")\n",
        "\n",
        "hosts_input = input(\"Enter host requirements: \")\n",
        "hosts = list(map(int, hosts_input.strip().split()))\n",
        "\n",
        "subnet_details = calculate_subnets(hosts, ip_add)\n",
        "\n",
        "for subnet in subnet_details:\n",
        "    print(f\"\\nHost requirement: {subnet['host']}\")\n",
        "    print(f\"nid_1: {subnet['nid_1']}\")\n",
        "    print(f\"nid_2: {subnet['nid_2']}\")\n",
        "    print(f\"Allocated IPs: {subnet['allocated_ips']}\")\n",
        "    print(f\"Block size: {subnet['blocksize']}\")\n"
      ]
    },
    {
      "cell_type": "markdown",
      "source": [
        "**selective repeat**"
      ],
      "metadata": {
        "id": "i9we0CQ1f4_l"
      }
    },
    {
      "cell_type": "code",
      "source": [
        "import time\n",
        "import random\n",
        "\n",
        "def send_data(window_size, data):\n",
        "    ack = 0\n",
        "    while ack < len(data):\n",
        "        print(f\"Sending packets from {ack} to {min(ack + window_size, len(data))}\")\n",
        "        ack = receive_ack(ack, data, window_size)\n",
        "\n",
        "def receive_ack(ack, data, window_size):\n",
        "    received_ack = ack\n",
        "    start_time = time.time()\n",
        "    received_packets = set()\n",
        "\n",
        "    while time.time() - start_time < 5:\n",
        "        time.sleep(1)\n",
        "        if random.random() < 0.2:\n",
        "            print(\"Packet loss, ACK not received for some packets\")\n",
        "            continue\n",
        "\n",
        "        received_ack += 1\n",
        "        received_packets.add(received_ack)\n",
        "        print(f\"Received ACK {received_ack}\")\n",
        "\n",
        "        if received_ack == ack + window_size or received_ack == len(data):\n",
        "            break\n",
        "\n",
        "    for i in range(ack + 1, min(ack + window_size, len(data)) + 1):\n",
        "        if i not in received_packets:\n",
        "            print(f\"Packet {i} lost, resending packet {i}\")\n",
        "\n",
        "            time.sleep(1)\n",
        "            print(f\"Packet {i} resent\")\n",
        "\n",
        "    return received_ack\n",
        "\n",
        "window_size = 3\n",
        "data = [1, 2, 3, 4, 5, 6, 7, 8, 9, 10]\n",
        "send_data(window_size, data)\n"
      ],
      "metadata": {
        "colab": {
          "base_uri": "https://localhost:8080/"
        },
        "id": "En-SdIW9f2Pq",
        "outputId": "a3b95c5c-6f0c-4532-f884-4d3ad2128c55"
      },
      "execution_count": 15,
      "outputs": [
        {
          "output_type": "stream",
          "name": "stdout",
          "text": [
            "Sending packets from 0 to 3\n",
            "Received ACK 1\n",
            "Received ACK 2\n",
            "Received ACK 3\n",
            "Sending packets from 3 to 6\n",
            "Received ACK 4\n",
            "Packet loss, ACK not received for some packets\n",
            "Received ACK 5\n",
            "Packet loss, ACK not received for some packets\n",
            "Received ACK 6\n",
            "Sending packets from 6 to 9\n",
            "Received ACK 7\n",
            "Received ACK 8\n",
            "Packet loss, ACK not received for some packets\n",
            "Received ACK 9\n",
            "Sending packets from 9 to 10\n",
            "Received ACK 10\n"
          ]
        }
      ]
    },
    {
      "cell_type": "markdown",
      "source": [
        "**gbn**"
      ],
      "metadata": {
        "id": "oTEG31eJgAXe"
      }
    },
    {
      "cell_type": "code",
      "source": [
        "import time\n",
        "import random\n",
        "\n",
        "def send_data(window_size, data):\n",
        "    ack = 0\n",
        "    while ack < len(data):\n",
        "        print(f\"Sending packets from {ack} to {min(ack + window_size, len(data))}\")\n",
        "        time.sleep(1)\n",
        "        ack = receive_ack(ack, data, window_size)\n",
        "\n",
        "def receive_ack(ack, data, window_size):\n",
        "    received_ack = ack\n",
        "    start_time = time.time()\n",
        "    while time.time() - start_time < 5:\n",
        "        time.sleep(1)\n",
        "        if random.random() < 0.2:\n",
        "            print(\"Packet dropped, ACK not received\")\n",
        "            continue\n",
        "        received_ack += 1\n",
        "        print(f\"Received ACK {received_ack}\")\n",
        "        if received_ack == ack + window_size or received_ack == len(data):\n",
        "            return received_ack\n",
        "    print(\"Timeout, resending packets...\")\n",
        "    return ack\n",
        "\n",
        "\n",
        "window_size = 3\n",
        "data = [1, 2, 3, 4, 5, 6, 7, 8, 9, 10]\n",
        "send_data(window_size, data)\n"
      ],
      "metadata": {
        "colab": {
          "base_uri": "https://localhost:8080/"
        },
        "id": "GK9ekggqetwg",
        "outputId": "a192acf2-5c99-4e87-bd33-a65d20406552"
      },
      "execution_count": 22,
      "outputs": [
        {
          "output_type": "stream",
          "name": "stdout",
          "text": [
            "Sending packets from 0 to 3\n",
            "Received ACK 1\n",
            "Packet dropped, ACK not received\n",
            "Received ACK 2\n",
            "Received ACK 3\n",
            "Sending packets from 3 to 6\n",
            "Received ACK 4\n",
            "Received ACK 5\n",
            "Received ACK 6\n",
            "Sending packets from 6 to 9\n",
            "Packet dropped, ACK not received\n",
            "Packet dropped, ACK not received\n",
            "Received ACK 7\n",
            "Received ACK 8\n",
            "Packet dropped, ACK not received\n",
            "Timeout, resending packets...\n",
            "Sending packets from 6 to 9\n",
            "Received ACK 7\n",
            "Received ACK 8\n",
            "Received ACK 9\n",
            "Sending packets from 9 to 10\n",
            "Received ACK 10\n"
          ]
        }
      ]
    }
  ]
}