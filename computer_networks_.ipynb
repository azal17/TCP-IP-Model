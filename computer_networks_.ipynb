{
  "nbformat": 4,
  "nbformat_minor": 0,
  "metadata": {
    "colab": {
      "provenance": [],
      "include_colab_link": true
    },
    "kernelspec": {
      "name": "python3",
      "display_name": "Python 3"
    },
    "language_info": {
      "name": "python"
    }
  },
  "cells": [
    {
      "cell_type": "markdown",
      "metadata": {
        "id": "view-in-github",
        "colab_type": "text"
      },
      "source": [
        "<a href=\"https://colab.research.google.com/github/azal17/computer_networks/blob/main/computer_networks_.ipynb\" target=\"_parent\"><img src=\"https://colab.research.google.com/assets/colab-badge.svg\" alt=\"Open In Colab\"/></a>"
      ]
    },
    {
      "cell_type": "markdown",
      "source": [
        "# Ifrah: stop and wait\n",
        "physical layer: line encoding"
      ],
      "metadata": {
        "id": "hXM0MvN86rKm"
      }
    },
    {
      "cell_type": "code",
      "source": [
        "import i as plt\n",
        "\n",
        "def plot(x, y):\n",
        "    plt.step(x, y, where='mid')\n",
        "    plt.xlabel('Bit Index')\n",
        "    plt.ylabel('Bit Value')\n",
        "    plt.title('Rectangular Plot for AMI Line Encoding')\n",
        "    plt.yticks([-1, 0, 1])\n",
        "    plt.ylim(-1.5, 1.5)\n",
        "    plt.show()\n",
        "\n",
        "def AMI():\n",
        "    bitstream = input(\"Enter the bitstream: \")\n",
        "    input_array = range(len(bitstream))\n",
        "    output_array = []\n",
        "    count = 0\n",
        "    for char in bitstream:\n",
        "        if char == '0':\n",
        "            output_array.append(0)\n",
        "        elif char == '1':\n",
        "            if count % 2 == 0:\n",
        "                output_array.append(1)\n",
        "            else:\n",
        "                output_array.append(-1)\n",
        "            count += 1\n",
        "    plot(input_array, output_array)\n",
        "\n",
        "AMI()\n"
      ],
      "metadata": {
        "id": "WoIsynfk66Co",
        "colab": {
          "base_uri": "https://localhost:8080/",
          "height": 490
        },
        "outputId": "c333afd6-65f2-489e-fbff-aac8cb090047"
      },
      "execution_count": null,
      "outputs": [
        {
          "name": "stdout",
          "output_type": "stream",
          "text": [
            "Enter the bitstream: 10101\n"
          ]
        },
        {
          "output_type": "display_data",
          "data": {
            "text/plain": [
              "<Figure size 640x480 with 1 Axes>"
            ],
            "image/png": "[encoded data removed]"
          },
          "metadata": {}
        }
      ]
    },
    {
      "cell_type": "markdown",
      "source": [
        "# Stop and Wait\n"
      ],
      "metadata": {
        "id": "ExwWi_rXmdiJ"
      }
    },
    {
      "cell_type": "code",
      "source": [
        "import time\n",
        "import random\n",
        "def send_frame(i,n):\n",
        "  if i != 0:\n",
        "    print(f\"I am the ack of {i-1}\")\n",
        "  print(f\"I am the {i} frame and I am sending the message\")\n",
        "  if i== n-1:\n",
        "    print(f\"I am the ack of {i}\")\n",
        "def resend_frame(i):\n",
        "  print(f\"I am the {i-1} frame and I am resending the message\")\n",
        "\n",
        "def stop_and_wait():\n",
        "  N = int(input(\"Enter the number of devices: \"))\n",
        "\n",
        "  i=0\n",
        "  send_frame(i,N)\n",
        "  for i in range(1,N):\n",
        "    ack = random.randint(0,1)\n",
        "    if ack != 0:\n",
        "      send_frame(i,N)\n",
        "\n",
        "\n",
        "    else:\n",
        "      print(f\"ack of {i-1} frame was lost\")\n",
        "      time.sleep(1)\n",
        "      resend_frame(i)\n",
        "      send_frame(i,N)\n",
        "\n",
        "\n",
        "stop_and_wait()"
      ],
      "metadata": {
        "id": "AdfRPne08kzS",
        "colab": {
          "base_uri": "https://localhost:8080/"
        },
        "outputId": "af980be5-0677-4847-ba79-9ed10a3fa3b1"
      },
      "execution_count": null,
      "outputs": [
        {
          "output_type": "stream",
          "name": "stdout",
          "text": [
            "Enter the number of devices: 3\n",
            "I am the 0 frame and I am sending the message\n",
            "I am the ack of 0\n",
            "I am the 1 frame and I am sending the message\n",
            "I am the ack of 1\n",
            "I am the 2 frame and I am sending the message\n",
            "I am the ack of 2\n"
          ]
        }
      ]
    },
    {
      "cell_type": "markdown",
      "source": [],
      "metadata": {
        "id": "ulopxGj0mh65"
      }
    },
    {
      "cell_type": "markdown",
      "source": [
        "# Token passing\n"
      ],
      "metadata": {
        "id": "Htaa_5chp9xw"
      }
    },
    {
      "cell_type": "code",
      "source": [
        "def send_frame(i,t):\n",
        "  print(f\"I am the {i} frame and I have the {t} token\")\n",
        "\n",
        "def delayed_token_passing():\n",
        "  N = int(input(\"Enter the number of devices: \"))\n",
        "  i=0\n",
        "  token=0\n",
        "  while i<N:\n",
        "    j=0\n",
        "    token=0\n",
        "    while j<N:\n",
        "      if i==j and j==token:\n",
        "        send_frame(j%N,token)\n",
        "      token+=1\n",
        "      j+=1\n",
        "    i+=1\n",
        "delayed_token_passing()"
      ],
      "metadata": {
        "colab": {
          "base_uri": "https://localhost:8080/"
        },
        "id": "krvj0VB58mHQ",
        "outputId": "f874aa62-e434-4fc5-8e6e-c7df4a94ced6"
      },
      "execution_count": null,
      "outputs": [
        {
          "output_type": "stream",
          "name": "stdout",
          "text": [
            "Enter the number of devices: 4\n",
            "I am the 0 frame and I have the 0 token\n",
            "I am the 1 frame and I have the 1 token\n",
            "I am the 2 frame and I have the 2 token\n",
            "I am the 3 frame and I have the 3 token\n"
          ]
        }
      ]
    },
    {
      "cell_type": "code",
      "source": [
        "def send_frame(i,t):\n",
        "  print(f\"I am the {i} frame and I have the {t}  token\")\n",
        "\n",
        "def token_passing():\n",
        "  N = int(input(\"Enter the number of devices: \"))\n",
        "  i=0\n",
        "  while i<N:\n",
        "    j=0\n",
        "    token = 0\n",
        "    while j<N:\n",
        "      if token==j:\n",
        "        send_frame(j%N,token)\n",
        "        token+=1\n",
        "      j+=1\n",
        "    i+=1\n",
        "token_passing()"
      ],
      "metadata": {
        "colab": {
          "base_uri": "https://localhost:8080/"
        },
        "id": "LmxCT6qY8oyC",
        "outputId": "57dbfc4a-1a21-4b64-def4-4a4a08fe9add"
      },
      "execution_count": null,
      "outputs": [
        {
          "output_type": "stream",
          "name": "stdout",
          "text": [
            "Enter the number of devices: 5\n",
            "I am the 0 frame and I have the 0  token\n",
            "I am the 1 frame and I have the 1  token\n",
            "I am the 2 frame and I have the 2  token\n",
            "I am the 3 frame and I have the 3  token\n",
            "I am the 4 frame and I have the 4  token\n",
            "I am the 0 frame and I have the 0  token\n",
            "I am the 1 frame and I have the 1  token\n",
            "I am the 2 frame and I have the 2  token\n",
            "I am the 3 frame and I have the 3  token\n",
            "I am the 4 frame and I have the 4  token\n",
            "I am the 0 frame and I have the 0  token\n",
            "I am the 1 frame and I have the 1  token\n",
            "I am the 2 frame and I have the 2  token\n",
            "I am the 3 frame and I have the 3  token\n",
            "I am the 4 frame and I have the 4  token\n",
            "I am the 0 frame and I have the 0  token\n",
            "I am the 1 frame and I have the 1  token\n",
            "I am the 2 frame and I have the 2  token\n",
            "I am the 3 frame and I have the 3  token\n",
            "I am the 4 frame and I have the 4  token\n",
            "I am the 0 frame and I have the 0  token\n",
            "I am the 1 frame and I have the 1  token\n",
            "I am the 2 frame and I have the 2  token\n",
            "I am the 3 frame and I have the 3  token\n",
            "I am the 4 frame and I have the 4  token\n"
          ]
        }
      ]
    },
    {
      "cell_type": "markdown",
      "source": [
        "# Izma: Access control:Data link Layer,Aloha, Nodes\n"
      ],
      "metadata": {
        "id": "6crYFcaf4vUY"
      }
    },
    {
      "cell_type": "code",
      "source": [
        "import random\n",
        "import time\n",
        "\n",
        "def send_frame(T_p,i):\n",
        "  print(f\"I am the {i} frame and I am being sent\")\n",
        "  time.sleep(2*T_p)\n",
        "  print(f\"I am ack of {i}\")\n",
        "def Aloha():\n",
        "  k_max = 4\n",
        "  k = 0\n",
        "  T_p = 1\n",
        "\n",
        "  while k<=k_max:\n",
        "        if k == 0:\n",
        "           print(k)\n",
        "           send_frame(T_p,k)\n",
        "        else:\n",
        "            R = random.randint(0,(2**k)-1)\n",
        "            time.sleep(R*T_p)\n",
        "            print(k)\n",
        "            send_frame(T_p,k)\n",
        "        k+=1\n",
        "\n",
        "  print(\"Abort\")\n",
        "\n",
        "Aloha()\n"
      ],
      "metadata": {
        "id": "eWiWcOTe6qQR",
        "colab": {
          "base_uri": "https://localhost:8080/"
        },
        "outputId": "038c04ae-3707-4130-f185-7381d94fc81b"
      },
      "execution_count": null,
      "outputs": [
        {
          "output_type": "stream",
          "name": "stdout",
          "text": [
            "0\n",
            "I am the 0 frame and I am being sent\n",
            "I am ack of 0\n",
            "1\n",
            "I am the 1 frame and I am being sent\n",
            "I am ack of 1\n",
            "2\n",
            "I am the 2 frame and I am being sent\n",
            "I am ack of 2\n",
            "3\n",
            "I am the 3 frame and I am being sent\n",
            "I am ack of 3\n",
            "4\n",
            "I am the 4 frame and I am being sent\n",
            "I am ack of 4\n",
            "Abort\n"
          ]
        }
      ]
    },
    {
      "cell_type": "code",
      "source": [
        "class Switch:\n",
        "    def __init__(self, device):\n",
        "        self.device = device\n",
        "        self.mapping = {}\n",
        "\n",
        "    def get_switch_details(self):\n",
        "        for i in range(self.device.n):\n",
        "            sender, receiver = input(\"Enter sender and receiver: \").split()\n",
        "            if i == 0:\n",
        "                for j in range(self.device.N):\n",
        "\n",
        "                  self.mapping[self.device.get_products()[j].name] = self.device.get_products()[j].mac_address\n",
        "                print(\"Message from\", sender, \"broadcasted to all devices\")\n",
        "            else:\n",
        "                print(\"Message received by\", receiver, \"at address\", self.mapping.get(receiver, \"Unknown\"))\n",
        "\n",
        "\n",
        "class Device:\n",
        "    def __init__(self):\n",
        "        self.name = None\n",
        "        self.mac_address = None\n",
        "        self.N = None\n",
        "        self.queries = None\n",
        "\n",
        "    def get_details(self):\n",
        "        self.N = int(input(\"User enters the number of devices\\n\"))\n",
        "        self.n = int(input(\"User enters the number of queries\\n\"))\n",
        "\n",
        "    def get_products(self):\n",
        "        devices = []\n",
        "        for i in range(self.N):\n",
        "            device = Device()\n",
        "            device.name = chr(65 + i)\n",
        "            device.mac_address = 100 * (i + 1)\n",
        "            devices.append(device)\n",
        "        return devices\n",
        "    def domains(self):\n",
        "      print(f\"The number of collision domains is {self.N}\")\n",
        "      print(f\"The number of broadcast domains is {1}\")\n",
        "\n",
        "\n",
        "def main():\n",
        "    d = Device()\n",
        "    d.get_details()\n",
        "    products = d.get_products()\n",
        "    d.domains()\n",
        "    s = Switch(d)\n",
        "    s.get_switch_details()\n",
        "    del products\n",
        "\n",
        "\n",
        "if __name__ == \"__main__\":\n",
        "    main()\n"
      ],
      "metadata": {
        "colab": {
          "base_uri": "https://localhost:8080/"
        },
        "id": "yUVP0kofuIqR",
        "outputId": "098cb14e-01ec-4e64-8a29-dabe7419b0e4"
      },
      "execution_count": null,
      "outputs": [
        {
          "output_type": "stream",
          "name": "stdout",
          "text": [
            "User enters the number of devices\n",
            "5\n",
            "User enters the number of queries\n",
            "4\n",
            "The number of collision domains is 5\n",
            "The number of broadcast domains is 1\n",
            "Enter sender and receiver: A B\n",
            "Message from A broadcasted to all devices\n",
            "Enter sender and receiver: B C\n",
            "Message received by C at address 300\n",
            "Enter sender and receiver: D E\n",
            "Message received by E at address 500\n",
            "Enter sender and receiver: E A\n",
            "Message received by A at address 100\n"
          ]
        }
      ]
    },
    {
      "cell_type": "code",
      "source": [
        "import networkx as nx\n",
        "import matplotlib.pyplot as plt\n",
        "\n",
        "# Create an empty undirected graph\n",
        "G = nx.Graph()\n",
        "\n",
        "# Add nodes\n",
        "G.add_node('D1')\n",
        "G.add_node('D2')\n",
        "G.add_node('D3')\n",
        "G.add_node('D4')\n",
        "G.add_node('D5')\n",
        "G.add_node('D6')\n",
        "G.add_node('D7')\n",
        "G.add_node('D8')\n",
        "G.add_node('D9')\n",
        "G.add_node('D10')\n",
        "G.add_node('H1')\n",
        "G.add_node('H2')\n",
        "G.add_node('S')\n",
        "\n",
        "# Add edges\n",
        "G.add_edge('D1', 'H1')\n",
        "G.add_edge('D2', 'H1')\n",
        "G.add_edge('D3', 'H1')\n",
        "G.add_edge('D4', 'H1')\n",
        "G.add_edge('D5', 'H1')\n",
        "G.add_edge('D6', 'H2')\n",
        "G.add_edge('D7', 'H2')\n",
        "G.add_edge('D8', 'H2')\n",
        "G.add_edge('D9', 'H2')\n",
        "G.add_edge('D10', 'H2')\n",
        "G.add_edge('H1', 'S')\n",
        "G.add_edge('H2', 'S')\n",
        "\n",
        "\n",
        "\n",
        "\n",
        "def transmit():\n",
        "  N = int(input(\"Enter the number of queries: \"))\n",
        "  print(\"There are 4 collision domains and 2 broadcast domains\")\n",
        "  node_addresses = {}\n",
        "  G.nodes['H1']['address'] = 100\n",
        "  j=1\n",
        "  for neighbor in G.neighbors('H1'):\n",
        "    if neighbor != 'S':\n",
        "      G.nodes[neighbor]['address'] = 100+j\n",
        "      j+=1\n",
        "  G.nodes['H2']['address'] = 200\n",
        "  j=1\n",
        "  for neighbor in G.neighbors('H2'):\n",
        "    if neighbor != 'S':\n",
        "      G.nodes[neighbor]['address'] = 200+j\n",
        "      j+=1\n",
        "\n",
        "  for i in range(N):\n",
        "    sender,receiver = input(\"Enter the sender and receiver \").split()\n",
        "    if i == 0:\n",
        "      print(f\"Message broadcasted in both domains at address {node_addresses.get(sender,'Unknown')} and {node_addresses.get(receiver,'Unknown')}\")\n",
        "      node_addresses['H1'] = G.nodes['H1']['address']\n",
        "      node_addresses['H2'] = G.nodes['H2']['address']\n",
        "    elif G.has_edge(sender,'H1') and G.has_edge(receiver,'H1'):\n",
        "        print(f\"Message broadcasted in H1 domain at address {node_addresses.get('H1','Unknown')} and {node_addresses.get('H1','Unknown')}\")\n",
        "    elif G.has_edge(sender,'H2') and G.has_edge(receiver,'H2'):\n",
        "        print(f\"Message broadcasted in H2 domain at address {node_addresses.get('H2','Unknown')} and {node_addresses.get('H2','Unknown')}\")\n",
        "    elif G.has_edge(sender,'H1') and G.has_edge(receiver,'H2'):\n",
        "        print(f\"Message broadcasted in H1 domain at address {node_addresses.get('H1','Unknown')} and in H2 domain at address {node_addresses.get('H2','Unknown')}\")\n",
        "    elif G.has_edge(sender,'H2') and G.has_edge(receiver,'H1'):\n",
        "        print(f\"Message broadcasted in H2 domain at address {node_addresses.get('H2','Unknown')} and and in H1 domain at address{node_addresses.get('H1','Unknown')}\")\n",
        "\n",
        "transmit()\n",
        "nx.draw(G,with_labels=True)\n",
        "plt.show()"
      ],
      "metadata": {
        "colab": {
          "base_uri": "https://localhost:8080/",
          "height": 700
        },
        "id": "I06-Dafm8qik",
        "outputId": "012dbdbc-15cb-476a-e57c-7803da3e92fd"
      },
      "execution_count": null,
      "outputs": [
        {
          "output_type": "stream",
          "name": "stdout",
          "text": [
            "Enter the number of queries: 4\n",
            "There are 4 collision domains and 2 broadcast domains\n",
            "Enter the sender and receiver D1 D2\n",
            "Message broadcasted in both domains at address Unknown and Unknown\n",
            "Enter the sender and receiver D3 D6\n",
            "Message broadcasted in H1 domain at address 100 and in H2 domain at address 200\n",
            "Enter the sender and receiver D5 D6\n",
            "Message broadcasted in H1 domain at address 100 and in H2 domain at address 200\n",
            "Enter the sender and receiver D7 D8\n",
            "Message broadcasted in H2 domain at address 200 and 200\n"
          ]
        },
        {
          "output_type": "display_data",
          "data": {
            "text/plain": [
              "<Figure size 640x480 with 1 Axes>"
            ],
            "image/png": "[encoded data removed]"
          },
          "metadata": {}
        }
      ]
    },
    {
      "cell_type": "markdown",
      "source": [
        "# Azal: error control hamming and extra crc, physical layer\n",
        "\n",
        "```\n",
        "# add these mac addresses\n",
        "A7:11:A7:BB:A1:12\n",
        "17:11:A7:BB:A1:12\n",
        "19:11:A7:BB:A1:13\n",
        "1C:00:FF:99:BC:AA\n",
        "1D:00:FF:00:2A:AB\n",
        "1A:00:FF:16:B3:BC\n",
        "1A:00:FF:0A:B2:DE\n",
        "1B:00:FF:97:EC:FF\n",
        "```\n",
        "\n",
        "\n"
      ],
      "metadata": {
        "id": "1q0snTjm698V"
      }
    },
    {
      "cell_type": "markdown",
      "source": [],
      "metadata": {
        "id": "VyzYybSD-XUJ"
      }
    },
    {
      "cell_type": "markdown",
      "source": [],
      "metadata": {
        "id": "s0vvrJuoLk8K"
      }
    },
    {
      "cell_type": "markdown",
      "source": [
        "# GBN ARQ"
      ],
      "metadata": {
        "id": "1F6zh0Oa-cGi"
      }
    },
    {
      "cell_type": "code",
      "source": [
        "import random\n",
        "def send_frame(i):\n",
        "  print(f\"The {i} frame was sent\")\n",
        "def ack(i):\n",
        "  print(f\"The {i+1}th frame should be sent\")\n",
        "m = int(input(\"Enter the number of bits \"))\n",
        "\n",
        "def gbn():\n",
        "  window_size = 2**m -1\n",
        "  receiver = [i for i in range(2**m)]\n",
        "  sender = [i for i in range(2**m)]\n",
        "\n",
        "  k = 0\n",
        "  for i in range(2**m -1):\n",
        "\n",
        "    send_frame(i)\n",
        "\n",
        "    ack(i)\n",
        "    k+=1\n",
        "    if i == window_size-1:\n",
        "      print(f\"successful transmission {k}\")\n",
        "\n",
        "\n",
        "def failackgbn():\n",
        "  window_size = 2**m -1\n",
        "  receiver = [i for i in range(2**m)]\n",
        "  sender = [i for i in range(2**m)]\n",
        "\n",
        "  k = 0\n",
        "  for i in range(2**m -1):\n",
        "\n",
        "    send_frame(i)\n",
        "    acknum = random.randint(0,1)\n",
        "    if acknum != 0 :\n",
        "        ack(i)\n",
        "    k+=1\n",
        "    if i == window_size-1 :\n",
        "        if acknum==1:\n",
        "          print(\"successful transmission\")\n",
        "        else:\n",
        "          print(f\"needs retransmission and k is {k} \")\n",
        "          # gbn()\n",
        "def failsendinggbn():\n",
        "  window_size = 2**m -1\n",
        "  receiver = [i for i in range(2**m)]\n",
        "  sender = [i for i in range(2**m)]\n",
        "\n",
        "  k = 0\n",
        "  for i in range(2**m -1):\n",
        "\n",
        "    num = random.randint(0,1)\n",
        "    if num != 0:\n",
        "      send_frame(i)\n",
        "      ack(i)\n",
        "      k+=1\n",
        "    if i == window_size-1 :\n",
        "      if k == window_size - 1:\n",
        "        print(f\"successful transmission {k}\")\n",
        "      else:\n",
        "        print(f\"needs retransmission and k is {k} \")\n",
        "          # gbn()\n",
        "\n",
        "\n",
        "gbn()\n",
        "failackgbn()\n",
        "failsendinggbn()"
      ],
      "metadata": {
        "colab": {
          "base_uri": "https://localhost:8080/"
        },
        "id": "mZhQPOpA-UuZ",
        "outputId": "1e89085c-28f9-4969-96eb-dd0f7de642e1"
      },
      "execution_count": null,
      "outputs": [
        {
          "output_type": "stream",
          "name": "stdout",
          "text": [
            "Enter the number of bits 1\n",
            "The 0 frame was sent\n",
            "The 1th frame should be sent\n",
            "successful transmission 1\n",
            "The 0 frame was sent\n",
            "The 1th frame should be sent\n",
            "successful transmission\n",
            "successful transmission 0\n"
          ]
        }
      ]
    },
    {
      "cell_type": "markdown",
      "source": [
        "# Physical layer\n"
      ],
      "metadata": {
        "id": "OwS-5LEo44ta"
      }
    },
    {
      "cell_type": "code",
      "source": [
        "\n",
        "\n",
        "\n",
        "class EndDevice:\n",
        "    def __init__(self, device_id, mac_address):\n",
        "        self.device_id = device_id\n",
        "        self.mac_address = mac_address\n",
        "\n",
        "class Sender:\n",
        "    def __init__(self, sender_address):\n",
        "        self.sender_address = sender_address\n",
        "\n",
        "    def send_message(self):\n",
        "        return input(\"Enter the message to be sent by the sender device with mac address: \" + str(self.sender_address) + \"\\n\")\n",
        "\n",
        "class Hub:\n",
        "    def __init__(self, message, sender_address, *device_addresses): #device address is mac address\n",
        "        print(\"\\n\\033[3mConnection between Hub and each device:\\033[0m\")\n",
        "        for i, address in enumerate(device_addresses, 1): # start from 1 , will give the index and iterable address value\n",
        "            print(\"HUB ------> Device:\", i)\n",
        "        print()\n",
        "        for address in device_addresses:\n",
        "            print(\"\\033[3mHub is broadcasting message \\\"\" + message + \"\\\" from sender with address = \" + sender_address + \" to device with MAC address = \" + address + \"\\033[0m\")\n",
        "\n",
        "class Receiver:\n",
        "    def __init__(self, receiver_mac, device_id):\n",
        "        self.receiver_mac = receiver_mac\n",
        "        self.device_id = device_id\n",
        "\n",
        "    def received_message(self, receiver_mac, message, device_id):\n",
        "        if receiver_mac == self.receiver_mac:\n",
        "            print(\"Message received = \\\"\" + message + \"\\\" by receiver Device: \" + str(device_id) + \" with MAC address: \" + receiver_mac)\n",
        "        else:\n",
        "            print(\"Device: \" + str(device_id) + \" is not the designated reciever\") # print statements use string, concatenates string only\n",
        "\n",
        "def main():\n",
        "    total_devices = int(input(\"Enter the number of devices in the connection: \"))\n",
        "    devices = []\n",
        "    for i in range(total_devices):\n",
        "        mac_address = input(\"Enter MAC address for device {}: \".format(i+1))\n",
        "        devices.append(EndDevice(i+1, mac_address))\n",
        "\n",
        "    print(\"Devices created successfully.\")\n",
        "    topology= int(input(\"Select the type of connection: 1.) Star 2.)Dedicated Connection \"))\n",
        "\n",
        "    #Star topology\n",
        "    if topology == 1:\n",
        "\n",
        "      print(\"You have chosen: Star Topology\")\n",
        "      sender_address = input(\"Enter the MAC address for the sender device: \")\n",
        "\n",
        "      for i in range(total_devices):\n",
        "          if sender_address == devices[i].mac_address:\n",
        "              sender = Sender(sender_address)\n",
        "              message = sender.send_message()\n",
        "              print(\"\\n\\033[3mSender device is sending message \\\"\" + message + \"\\\" to the Hub\\033[0m\") #ansi escape sequence\n",
        "\n",
        "              device_addresses = [device.mac_address for device in devices] #saving the mac addresses in the list\n",
        "\n",
        "              hub = Hub(message, sender_address, *device_addresses)# * will seperate each argument i.e each mac address\n",
        "\n",
        "              receiver_mac = input(\"Enter the MAC address for the receiver device: \")\n",
        "              receiver = Receiver(receiver_mac, total_devices)\n",
        "              print()\n",
        "              for device in devices:\n",
        "                  receiver.received_message(device.mac_address, message, device.device_id)\n",
        "              break\n",
        "          else:\n",
        "              continue\n",
        "      else:\n",
        "          print(\"\\033[3mWarning: Enter a valid MAC address from the entered list of address.\\033[0m\")\n",
        "\n",
        "\n",
        "\n",
        "\n",
        "\n",
        "\n",
        "\n",
        "    #Dedicated links\n",
        "    elif topology == 2:\n",
        "      print(\"You have chosen: Dedicated Connection\")\n",
        "      sender_address = input(\"Enter the MAC address for the sender device: \")\n",
        "\n",
        "      for i in range(total_devices):\n",
        "          if sender_address == devices[i].mac_address:\n",
        "              sender = Sender(sender_address)\n",
        "              message = sender.send_message()\n",
        "\n",
        "              receiver_mac = input(\"Enter the MAC address for the receiver device: \")\n",
        "              for i in range(total_devices):\n",
        "                  if receiver_mac == devices[i].mac_address:\n",
        "                      print(\"\\033[3mSending\\033[0m \" \" + str(message) + \" \"\\033[3mfrom device with mac address\\033[0m \" + str(sender_address) + \" \\033[3mto device with mac address\\033[0m \" + str(receiver_mac))\n",
        "                      print(\"Message Recievd!\")\n",
        "\n",
        "                      break\n",
        "                  else:\n",
        "                      continue\n",
        "              else:\n",
        "                  print(\"\\033[3mWarning: Enter a valid MAC address from the entered list of address.\\033[0m\")\n",
        "\n",
        "\n",
        "\n",
        "\n",
        "              break\n",
        "          else:\n",
        "              continue\n",
        "      else:\n",
        "          print(\"\\033[3mWarning: Enter a valid MAC address from the entered list of address.\\033[0m\")\n",
        "\n",
        "\n",
        "\n",
        "\n",
        "    else:\n",
        "        print(\"Invalid choice.\")\n",
        "\n",
        "\n",
        "if __name__ == \"__main__\":\n",
        "    main()\n"
      ],
      "metadata": {
        "id": "NG4IZJ1bn2RR",
        "colab": {
          "base_uri": "https://localhost:8080/"
        },
        "outputId": "56b1121d-0cea-4029-e313-e89c3204f925"
      },
      "execution_count": null,
      "outputs": [
        {
          "output_type": "stream",
          "name": "stdout",
          "text": [
            "Enter the number of devices in the connection: 5\n",
            "Enter MAC address for device 1: 100\n",
            "Enter MAC address for device 2: 200\n",
            "Enter MAC address for device 3: 300\n",
            "Enter MAC address for device 4: 400\n",
            "Enter MAC address for device 5: 500\n",
            "Devices created successfully.\n",
            "Select the type of connection: 1.) Star 2.)Dedicated Connection 1\n",
            "You have chosen: Star Topology\n",
            "Enter the MAC address for the sender device: 100\n",
            "Enter the message to be sent by the sender device with mac address: 100\n",
            "10000101\n",
            "\n",
            "\u001b[3mSender device is sending message \"10000101\" to the Hub\u001b[0m\n",
            "\n",
            "\u001b[3mConnection between Hub and each device:\u001b[0m\n",
            "HUB ------> Device: 1\n",
            "HUB ------> Device: 2\n",
            "HUB ------> Device: 3\n",
            "HUB ------> Device: 4\n",
            "HUB ------> Device: 5\n",
            "\n",
            "\u001b[3mHub is broadcasting message \"10000101\" from sender with address = 100 to device with MAC address = 100\u001b[0m\n",
            "\u001b[3mHub is broadcasting message \"10000101\" from sender with address = 100 to device with MAC address = 200\u001b[0m\n",
            "\u001b[3mHub is broadcasting message \"10000101\" from sender with address = 100 to device with MAC address = 300\u001b[0m\n",
            "\u001b[3mHub is broadcasting message \"10000101\" from sender with address = 100 to device with MAC address = 400\u001b[0m\n",
            "\u001b[3mHub is broadcasting message \"10000101\" from sender with address = 100 to device with MAC address = 500\u001b[0m\n",
            "Enter the MAC address for the receiver device: 400\n",
            "\n",
            "Device: 1 is not the designated reciever\n",
            "Device: 2 is not the designated reciever\n",
            "Device: 3 is not the designated reciever\n",
            "Message received = \"10000101\" by receiver Device: 4 with MAC address: 400\n",
            "Device: 5 is not the designated reciever\n"
          ]
        }
      ]
    },
    {
      "cell_type": "markdown",
      "source": [
        "#**Hamming - Encoder (Sender Side)**\n",
        "\n",
        "> test cases 1011 0110 1110: change to 1111\n",
        "\n"
      ],
      "metadata": {
        "id": "qB83EYsf8aQu"
      }
    },
    {
      "cell_type": "code",
      "source": [
        "#sender side , 7 bit hamming code\n",
        "import numpy as np\n",
        "\n",
        "n = int(input(\"Enter the size of dataword array: \")) #has to be of 4 bits\n",
        "\n",
        "data_word = np.empty(n, dtype=int)  # Create an empty NumPy array for dataword\n",
        "\n",
        "for i in range(n):\n",
        "    element = int(input(\"Enter element {}: \".format(i + 1)))\n",
        "    data_word[i] = element\n",
        "\n",
        "print(\"NumPy Array Dataword:\", data_word)\n",
        "\n",
        "code_word = np.zeros(n, dtype=int)  # Hamming code with 3 parity bits\n",
        "\n",
        "code_word[:n] = data_word  # Copy data_word into code_word, starts from 0 not 1\n",
        "\n",
        "1\n",
        "\n",
        "\n",
        "# 1 2 4 = 6 5 3\n",
        "code_word = np.insert(code_word, 3, 0)  # p4\n",
        "code_word = np.insert(code_word, 5, 0)  # p2\n",
        "code_word = np.insert(code_word, 6, 0)  # p1\n",
        "\n",
        "print(\"NumPy Array Codeword with Empty Parity Bits:\", code_word)\n",
        "\n",
        "#parity calculation\n",
        "\n",
        "p1 = code_word[0]^code_word[2]^code_word[4] # 1 3 5 7 here corresponds to 0 2 4 6 , ^ = xor\n",
        "p2 = code_word[0]^code_word[1]^code_word[4] # 2 3 6 7 , 0 1 4 5\n",
        "p4 = code_word[0]^code_word[1]^code_word[2] # 4 5 6 7 , 0 1 2 3\n",
        "print(\"p1: \", p1)\n",
        "print(\"p2: \", p2)\n",
        "print(\"p4: \", p4)\n",
        "\n",
        "code_word[3] = p4\n",
        "code_word[5] = p2\n",
        "code_word[6] = p1\n",
        "\n",
        "\n",
        "print(\"Final Codeword:\", code_word)"
      ],
      "metadata": {
        "id": "FL_ulZys7O6P",
        "colab": {
          "base_uri": "https://localhost:8080/"
        },
        "outputId": "94e42448-9f00-43d1-a153-d9ff0024e03a"
      },
      "execution_count": null,
      "outputs": [
        {
          "output_type": "stream",
          "name": "stdout",
          "text": [
            "Enter the size of dataword array: 4\n",
            "Enter element 1: 1\n",
            "Enter element 2: 1\n",
            "Enter element 3: 1\n",
            "Enter element 4: 1\n",
            "NumPy Array Dataword: [1 1 1 1]\n",
            "NumPy Array Codeword with Empty Parity Bits: [1 1 1 0 1 0 0]\n",
            "p1:  1\n",
            "p2:  1\n",
            "p4:  1\n",
            "Final Codeword: [1 1 1 1 1 1 1]\n"
          ]
        }
      ]
    },
    {
      "cell_type": "markdown",
      "source": [
        "# **Hamming-Decoder (Reciever)**"
      ],
      "metadata": {
        "id": "OdaukyE_8oA6"
      }
    },
    {
      "cell_type": "code",
      "source": [
        "import numpy as np\n",
        "\n",
        "n = int(input(\"Enter the size of array: \"))\n",
        "\n",
        "codeword = np.empty(n, dtype=int)  # Create an empty NumPy array for codeword\n",
        "\n",
        "for i in range(n):\n",
        "    element = int(input(\"Enter element {}: \".format(i )))\n",
        "    codeword[i] = element\n",
        "\n",
        "print(\"NumPy Array Codeword:\", codeword)\n",
        "\n",
        "p1 = codeword[0] ^ codeword[2] ^ codeword[4]^codeword[6]\n",
        "p2 = codeword[0] ^ codeword[1] ^ codeword[4]^codeword[5]\n",
        "p4 = codeword[0] ^ codeword[1] ^ codeword[2]^codeword[3]\n",
        "\n",
        "print(\"p1:\", p1)\n",
        "print(\"p2:\", p2)\n",
        "print(\"p4:\", p4)\n",
        "\n",
        "# Create the syndrome as a string\n",
        "syndrome = str(p4) + str(p2) + str(p1)  # p4 p2 p1\n",
        "\n",
        "print(\"Syndrome:\", syndrome)\n",
        "\n",
        "if syndrome != \"000\":\n",
        "    print(\"Error detected\")\n",
        "    # Convert the binary representation of the syndrome string to an integer\n",
        "    position_correction = int(syndrome, 2)\n",
        "    print(\"Position Correction:\", position_correction)\n",
        "    # Correct the bit at the detected position\n",
        "    codeword[n-position_correction] ^= 1  # Flip the bit\n",
        "    print(\"Corrected Codeword:\", codeword)\n",
        "else:\n",
        "    print(\"No error detected\")\n",
        "\n",
        "\n"
      ],
      "metadata": {
        "id": "nPAhJz4hLCUk",
        "colab": {
          "base_uri": "https://localhost:8080/"
        },
        "outputId": "65b65db7-5cf6-4189-99c9-83e7e1e14a39"
      },
      "execution_count": null,
      "outputs": [
        {
          "output_type": "stream",
          "name": "stdout",
          "text": [
            "Enter the size of array: 7\n",
            "Enter element 0: 1\n",
            "Enter element 1: 1\n",
            "Enter element 2: 1\n",
            "Enter element 3: 1\n",
            "Enter element 4: 1\n",
            "Enter element 5: 1\n",
            "Enter element 6: 1\n",
            "NumPy Array Codeword: [1 1 1 1 1 1 1]\n",
            "p1: 0\n",
            "p2: 0\n",
            "p4: 0\n",
            "Syndrome: 000\n",
            "No error detected\n"
          ]
        }
      ]
    },
    {
      "cell_type": "markdown",
      "source": [
        "# CRC Encoder\n",
        ">The code works for binary stream as well as polynomial stream\n",
        "\n",
        "\n",
        "```\n",
        "# works for: 1101011011, 10011 or x9+x8+x6+x4+x3+x+1, x4+x+1\n",
        "```\n",
        "\n"
      ],
      "metadata": {
        "id": "WTAPd870HnpS"
      }
    },
    {
      "cell_type": "code",
      "source": [
        "# CRC encoder\n",
        "import numpy as np\n",
        "\n",
        "# Binary division function\n",
        "def binary_division(dataword, divisor):\n",
        "    dataword_int = int(\"\".join(map(str, dataword)), 2)  # Convert dataword array to integer\n",
        "    divisor_int = int(\"\".join(map(str, divisor)), 2)  # Convert divisor array to integer\n",
        "\n",
        "    while dataword_int >= divisor_int:  # Continue until the length of dataword is greater than or equal to the length of the divisor\n",
        "        shift = len(bin(dataword_int)) - len(bin(divisor_int))  # Calculate the number of times to shift the divisor\n",
        "        dataword_int ^= (divisor_int << shift)  # Subtract the shifted divisor from the dataword using bitwise XOR\n",
        "\n",
        "    remainder_bin = bin(dataword_int)[2:]  # Convert the remainder back to binary string\n",
        "    remainder = np.array([int(bit) for bit in remainder_bin])  # Convert binary string to array\n",
        "    return remainder\n",
        "\n",
        "# Input dataword and divisor\n",
        "choice = input(\"Choose an option: 1) Bits, 2) Polynomial: \")\n",
        "\n",
        "if choice == \"1\":  # Input as individual bits\n",
        "    n = int(input(\"Enter the number of bits for dataword: \"))\n",
        "    dataword = np.empty(n, dtype=int)\n",
        "    for i in range(n):\n",
        "        element = int(input(\"Enter the {}st bit: \".format(i+1)))\n",
        "        dataword[i] = element\n",
        "\n",
        "    print(\"Entered dataword:\", dataword)\n",
        "\n",
        "    m = int(input(\"Enter the number of bits for divisor: \"))\n",
        "    divisor = np.empty(m, dtype=int)\n",
        "    for i in range(m):\n",
        "        element = int(input(\"Enter the {}st bit: \".format(i+1)))\n",
        "        divisor[i] = element\n",
        "\n",
        "    print(\"Entered divisor:\", divisor)\n",
        "\n",
        "    syndrome_length = m - 1  # 1 less than the length of the divisor\n",
        "    augmented_dataword = np.concatenate((dataword, np.zeros(syndrome_length, dtype=int)))  # Concatenate dataword with zeros for syndrome\n",
        "    remainder = binary_division(augmented_dataword, divisor)\n",
        "    print(\"Remainder:\", remainder)\n",
        "\n",
        "    codeword = np.concatenate((dataword, remainder))\n",
        "    print(\"Codeword:\", codeword)\n",
        "\n",
        "elif choice == \"2\":  # Input as polynomial\n",
        "    n = int(input(\"Enter the degree of polynomial dataword: \")) + 1\n",
        "    dataword = np.empty(n, dtype=int)\n",
        "    for i in range(n):\n",
        "        element = int(input(\"Enter the coefficient of x^{}: \".format(n - i - 1)))\n",
        "        dataword[i] = element\n",
        "\n",
        "    print(\"Entered dataword: \", dataword)\n",
        "    print(\"Entered polynomial dataword: \")\n",
        "\n",
        "    polynomial_dataword = \"\"\n",
        "    for i in range(n):\n",
        "        if dataword[i] != 0:\n",
        "            polynomial_dataword += \"x^{} + \".format(n - i - 1)\n",
        "        else:\n",
        "            continue\n",
        "\n",
        "    polynomial_dataword = polynomial_dataword[:-3]  # Remove extra \"+\"\n",
        "    print(polynomial_dataword)\n",
        "\n",
        "    m = int(input(\"Enter the degree of generator polynomial : \")) + 1\n",
        "    divisor = np.empty(m, dtype=int)\n",
        "    for i in range(m):\n",
        "        element = int(input(\"Enter the coefficient of x^{}: \".format(m - i - 1)))\n",
        "        divisor[i] = element\n",
        "\n",
        "    print(\"Entered divisor: \", divisor)\n",
        "    print(\"Entered generator polynomial : \")\n",
        "\n",
        "    polynomial_divisor = \"\"\n",
        "    for i in range(m):\n",
        "        if divisor[i] != 0:\n",
        "            polynomial_divisor += \"x^{} + \".format(m - i - 1)\n",
        "        else:\n",
        "            continue\n",
        "\n",
        "    polynomial_divisor = polynomial_divisor[:-3]  # Remove extra \"+\"\n",
        "    print(polynomial_divisor)\n",
        "\n",
        "    syndrome_length = m - 1  # 1 less than the length of the divisor\n",
        "    augmented_dataword = np.concatenate((dataword, np.zeros(syndrome_length, dtype=int)))  # Concatenate dataword with zeros for syndrome\n",
        "    remainder = binary_division(augmented_dataword, divisor)\n",
        "    print(\"Remainder:\", remainder)\n",
        "\n",
        "    codeword = np.concatenate((augmented_dataword, remainder))\n",
        "    print(\"Codeword:\", codeword)\n",
        "\n",
        "    a = len(remainder)\n",
        "\n",
        "    print(\"Polynomial Remainder: \")\n",
        "    k = \"\"\n",
        "    for i in range(a):\n",
        "        if remainder[i] != 0:\n",
        "            k += \"x^{} + \".format(a - i-1)\n",
        "        else:\n",
        "            continue\n",
        "    k = k[:-3]\n",
        "    print(k)\n",
        "\n",
        "\n",
        "\n",
        "    b = len(augmented_dataword)\n",
        "\n",
        "    print(\"Polynomial Codeword: \")\n",
        "    l = \"\"\n",
        "    for i in range(b):\n",
        "        if augmented_dataword[i] != 0:\n",
        "            l += \"x^{} + \".format(b - i-1)\n",
        "        else:\n",
        "            continue\n",
        "    print(l,end = \"\")\n",
        "\n",
        "    z = \"\"\n",
        "    for i in range(a):\n",
        "        if remainder[i] != 0:\n",
        "            z += \"x^{} + \".format(a - i-1)\n",
        "        else:\n",
        "            continue\n",
        "\n",
        "    z = z[:-3]\n",
        "    print(z)\n",
        "\n",
        "else:\n",
        "    print(\"Invalid option. Please choose either '1' or '2'.\")\n",
        "    exit()\n"
      ],
      "metadata": {
        "id": "wINTpFJ-Zlvz",
        "colab": {
          "base_uri": "https://localhost:8080/"
        },
        "outputId": "c3b2c1db-b9c2-4e1a-88d1-1d42e16932e9"
      },
      "execution_count": null,
      "outputs": [
        {
          "output_type": "stream",
          "name": "stdout",
          "text": [
            "Choose an option: 1) Bits, 2) Polynomial: 2\n",
            "Enter the degree of polynomial dataword: 9\n",
            "Enter the coefficient of x^9: 1\n",
            "Enter the coefficient of x^8: 1\n",
            "Enter the coefficient of x^7: 0\n",
            "Enter the coefficient of x^6: 1\n",
            "Enter the coefficient of x^5: 0\n",
            "Enter the coefficient of x^4: 1\n",
            "Enter the coefficient of x^3: 1\n",
            "Enter the coefficient of x^2: 0\n",
            "Enter the coefficient of x^1: 1\n",
            "Enter the coefficient of x^0: 1\n",
            "Entered dataword:  [1 1 0 1 0 1 1 0 1 1]\n",
            "Entered polynomial dataword: \n",
            "x^9 + x^8 + x^6 + x^4 + x^3 + x^1 + x^0\n",
            "Enter the degree of geneartor polynomial : 4\n",
            "Enter the coefficient of x^4: 1\n",
            "Enter the coefficient of x^3: 0\n",
            "Enter the coefficient of x^2: 0\n",
            "Enter the coefficient of x^1: 1\n",
            "Enter the coefficient of x^0: 1\n",
            "Entered divisor:  [1 0 0 1 1]\n",
            "Entered generator polynomial : \n",
            "x^4 + x^1 + x^0\n",
            "Remainder: [1 1 1 0]\n",
            "Codeword: [1 1 0 1 0 1 1 0 1 1 0 0 0 0 1 1 1 0]\n",
            "Polynomial Remainder: \n",
            "x^3 + x^2 + x^1\n",
            "Polynomial Codeword: \n",
            "x^13 + x^12 + x^10 + x^8 + x^7 + x^5 + x^4 + x^3 + x^2 + x^1\n"
          ]
        }
      ]
    },
    {
      "cell_type": "markdown",
      "source": [
        "# CRC Decoder\n"
      ],
      "metadata": {
        "id": "q7CpHij185C5"
      }
    },
    {
      "cell_type": "code",
      "source": [
        "#crc decoder\n",
        "import numpy as np\n",
        "\n",
        "# Binary division function\n",
        "def binary_division(dataword, divisor):\n",
        "    dataword_int = int(\"\".join(map(str, dataword)), 2)  # Convert dataword array to integer\n",
        "    divisor_int = int(\"\".join(map(str, divisor)), 2)  # Convert divisor array to integer\n",
        "\n",
        "    while dataword_int >= divisor_int:  # Continue until the length of dataword is greater than or equal to the length of the divisor\n",
        "        shift = len(bin(dataword_int)) - len(bin(divisor_int))  # Calculate the number of times to shift the divisor\n",
        "        dataword_int ^= (divisor_int << shift)  # Subtract the shifted divisor from the dataword using bitwise XOR\n",
        "\n",
        "    remainder_bin = bin(dataword_int)[2:]  # Convert the remainder back to binary string\n",
        "    remainder = np.array([int(bit) for bit in remainder_bin])  # Convert binary string to array\n",
        "    return remainder\n",
        "\n",
        "choice = input(\"Choose an option: 1) Bits, 2) Polynomial: \")\n",
        "\n",
        "if choice == \"1\":  # Input as individual bits\n",
        "    # Input codeword and divisor\n",
        "    n = int(input(\"Enter the number of bits for codeword: \"))\n",
        "    codeword = np.empty(n, dtype=int)\n",
        "    for i in range(n):\n",
        "        element = int(input(\"Enter the {}st bit: \".format(i+1)))\n",
        "        codeword[i] = element\n",
        "\n",
        "    print(\"Entered codeword:\", codeword)\n",
        "\n",
        "    m = int(input(\"Enter the number of bits for divisor: \"))\n",
        "    divisor = np.empty(m, dtype=int)\n",
        "    for i in range(m):\n",
        "        element = int(input(\"Enter the {}st bit: \".format(i+1)))\n",
        "        divisor[i] = element\n",
        "\n",
        "    print(\"Entered divisor:\", divisor)\n",
        "\n",
        "    # Perform binary division\n",
        "    remainder = binary_division(codeword, divisor)\n",
        "\n",
        "    # Check if remainder is zero\n",
        "    if np.all(remainder == 0):\n",
        "        print(\"No errors detected. Frame transmitted successfully!\")\n",
        "    else:\n",
        "        print(\"Error detected!\")\n",
        "\n",
        "elif choice == \"2\":\n",
        "    n = int(input(\"Enter the degree of polynomial codeword: \"))+1\n",
        "    codeword = np.empty(n, dtype=int)\n",
        "    for i in range(n):\n",
        "        element = int(input(\"Enter the coefficient of x^{}: \".format(n - i - 1)))\n",
        "        codeword[i] = element\n",
        "\n",
        "    print(\"Entered codeword:\", codeword)\n",
        "    print(\"Entered polynomial codeword: \")\n",
        "\n",
        "    polynomial_codeword = \"\"\n",
        "    for i in range(n):\n",
        "        if codeword[i] != 0:\n",
        "             polynomial_codeword += \"x^{} + \".format(n - i - 1)\n",
        "        else:\n",
        "            continue\n",
        "\n",
        "    polynomial_codeword =  polynomial_codeword[:-3]  # Remove extra \"+\"\n",
        "    print( polynomial_codeword)\n",
        "\n",
        "    m = int(input(\"Enter the degree of polynomial  generator: \"))+1\n",
        "    divisor = np.empty(m, dtype=int)\n",
        "    for i in range(m):\n",
        "        element = int(input(\"Enter the coefficient of x^{}: \".format(m - i - 1)))\n",
        "        divisor[i] = element\n",
        "\n",
        "    print(\"Entered divisor:\", divisor)\n",
        "    print(\"Entered generator polynomial : \")\n",
        "\n",
        "    polynomial_divisor = \"\"\n",
        "    for i in range(m):\n",
        "        if divisor[i] != 0:\n",
        "            polynomial_divisor += \"x^{} + \".format(m - i - 1)\n",
        "        else:\n",
        "            continue\n",
        "\n",
        "    polynomial_divisor = polynomial_divisor[:-3]  # Remove extra \"+\"\n",
        "    print(polynomial_divisor)\n",
        "    remainder = binary_division(codeword, divisor)\n",
        "\n",
        "    # Check if remainder is zero\n",
        "    if np.all(remainder == 0):\n",
        "        print(\"No errors detected. Frame transmitted successfully!\")\n",
        "    else:\n",
        "        print(\"Error detected!\")\n",
        "else:\n",
        "    print(\"Invalid option. Please choose either '1' or '2'.\")\n",
        "    exit()\n"
      ],
      "metadata": {
        "id": "Ob-SHMeyUj-b",
        "colab": {
          "base_uri": "https://localhost:8080/"
        },
        "outputId": "b3d04e4e-c34c-4781-9c35-3897bea3a105"
      },
      "execution_count": null,
      "outputs": [
        {
          "output_type": "stream",
          "name": "stdout",
          "text": [
            "Choose an option: 1) Bits, 2) Polynomial: 2\n",
            "Enter the degree of polynomial codeword: 6\n",
            "Enter the coefficient of x^6: 1\n",
            "Enter the coefficient of x^5: 0\n",
            "Enter the coefficient of x^4: 0\n",
            "Enter the coefficient of x^3: 1\n",
            "Enter the coefficient of x^2: 1\n",
            "Enter the coefficient of x^1: 1\n",
            "Enter the coefficient of x^0: 0\n",
            "Entered codeword: [1 0 0 1 1 1 0]\n",
            "Entered polynomial codeword: \n",
            "x^6 + x^3 + x^2 + x^1\n",
            "Enter the degree of polynomial  generator: 3\n",
            "Enter the coefficient of x^3: 1\n",
            "Enter the coefficient of x^2: 1\n",
            "Enter the coefficient of x^1: 1\n",
            "Enter the coefficient of x^0: 1\n",
            "Entered divisor: [1 1 1 1]\n",
            "Entered generator polynomial : \n",
            "x^3 + x^2 + x^1 + x^0\n",
            "Error detected!\n"
          ]
        }
      ]
    }
  ]
}